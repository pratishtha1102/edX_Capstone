{
 "cells": [
  {
   "cell_type": "code",
   "execution_count": 1,
   "metadata": {},
   "outputs": [],
   "source": [
    "import matplotlib.pyplot as plt\n",
    "import pandas as pd\n",
    "import pylab as pl\n",
    "import numpy as np\n",
    "%matplotlib inline"
   ]
  },
  {
   "cell_type": "code",
   "execution_count": 2,
   "metadata": {},
   "outputs": [
    {
     "data": {
      "text/html": [
       "<div>\n",
       "<style scoped>\n",
       "    .dataframe tbody tr th:only-of-type {\n",
       "        vertical-align: middle;\n",
       "    }\n",
       "\n",
       "    .dataframe tbody tr th {\n",
       "        vertical-align: top;\n",
       "    }\n",
       "\n",
       "    .dataframe thead th {\n",
       "        text-align: right;\n",
       "    }\n",
       "</style>\n",
       "<table border=\"1\" class=\"dataframe\">\n",
       "  <thead>\n",
       "    <tr style=\"text-align: right;\">\n",
       "      <th></th>\n",
       "      <th>Unnamed: 0</th>\n",
       "      <th>Unique Key</th>\n",
       "      <th>Created Date</th>\n",
       "      <th>Closed Date</th>\n",
       "      <th>Complaint Type</th>\n",
       "      <th>Location Type</th>\n",
       "      <th>Incident Zip</th>\n",
       "      <th>Incident Address</th>\n",
       "      <th>Street Name</th>\n",
       "      <th>Address Type</th>\n",
       "      <th>City</th>\n",
       "      <th>Status</th>\n",
       "      <th>Resolution Description</th>\n",
       "      <th>Borough</th>\n",
       "      <th>Latitude</th>\n",
       "      <th>Longitude</th>\n",
       "    </tr>\n",
       "  </thead>\n",
       "  <tbody>\n",
       "    <tr>\n",
       "      <th>4866089</th>\n",
       "      <td>4866089</td>\n",
       "      <td>37019932</td>\n",
       "      <td>08/24/2017 12:16:02 PM</td>\n",
       "      <td>08/29/2017 04:38:21 PM</td>\n",
       "      <td>ELEVATOR</td>\n",
       "      <td>RESIDENTIAL BUILDING</td>\n",
       "      <td>11415.0</td>\n",
       "      <td>84-15 AUSTIN STREET</td>\n",
       "      <td>AUSTIN STREET</td>\n",
       "      <td>ADDRESS</td>\n",
       "      <td>Kew Gardens</td>\n",
       "      <td>Closed</td>\n",
       "      <td>The Department of Housing Preservation and Dev...</td>\n",
       "      <td>QUEENS</td>\n",
       "      <td>40.707740</td>\n",
       "      <td>-73.827876</td>\n",
       "    </tr>\n",
       "    <tr>\n",
       "      <th>1312316</th>\n",
       "      <td>1312316</td>\n",
       "      <td>21100217</td>\n",
       "      <td>08/24/2011 12:00:00 AM</td>\n",
       "      <td>09/12/2011 12:00:00 AM</td>\n",
       "      <td>GENERAL CONSTRUCTION</td>\n",
       "      <td>RESIDENTIAL BUILDING</td>\n",
       "      <td>11212.0</td>\n",
       "      <td>549 HERZL STREET</td>\n",
       "      <td>HERZL STREET</td>\n",
       "      <td>ADDRESS</td>\n",
       "      <td>BROOKLYN</td>\n",
       "      <td>Closed</td>\n",
       "      <td>The Department of Housing Preservation and Dev...</td>\n",
       "      <td>BROOKLYN</td>\n",
       "      <td>40.656258</td>\n",
       "      <td>-73.912161</td>\n",
       "    </tr>\n",
       "    <tr>\n",
       "      <th>1701142</th>\n",
       "      <td>1701142</td>\n",
       "      <td>22780218</td>\n",
       "      <td>02/26/2012 12:00:00 AM</td>\n",
       "      <td>03/01/2012 12:00:00 AM</td>\n",
       "      <td>HEATING</td>\n",
       "      <td>RESIDENTIAL BUILDING</td>\n",
       "      <td>11216.0</td>\n",
       "      <td>660 LAFAYETTE AVENUE</td>\n",
       "      <td>LAFAYETTE AVENUE</td>\n",
       "      <td>ADDRESS</td>\n",
       "      <td>BROOKLYN</td>\n",
       "      <td>Closed</td>\n",
       "      <td>More than one complaint was received for this ...</td>\n",
       "      <td>BROOKLYN</td>\n",
       "      <td>40.690298</td>\n",
       "      <td>-73.947765</td>\n",
       "    </tr>\n",
       "    <tr>\n",
       "      <th>4017199</th>\n",
       "      <td>4017199</td>\n",
       "      <td>32598394</td>\n",
       "      <td>02/04/2016 10:14:03 AM</td>\n",
       "      <td>02/10/2016 09:14:45 AM</td>\n",
       "      <td>FLOORING/STAIRS</td>\n",
       "      <td>RESIDENTIAL BUILDING</td>\n",
       "      <td>10467.0</td>\n",
       "      <td>3450 GATES PLACE</td>\n",
       "      <td>GATES PLACE</td>\n",
       "      <td>ADDRESS</td>\n",
       "      <td>BRONX</td>\n",
       "      <td>Closed</td>\n",
       "      <td>The Department of Housing Preservation and Dev...</td>\n",
       "      <td>BRONX</td>\n",
       "      <td>40.883080</td>\n",
       "      <td>-73.883408</td>\n",
       "    </tr>\n",
       "    <tr>\n",
       "      <th>3543067</th>\n",
       "      <td>3543067</td>\n",
       "      <td>30357707</td>\n",
       "      <td>04/08/2015 12:00:00 AM</td>\n",
       "      <td>04/16/2015 12:00:00 AM</td>\n",
       "      <td>PLUMBING</td>\n",
       "      <td>RESIDENTIAL BUILDING</td>\n",
       "      <td>10305.0</td>\n",
       "      <td>264 EDGEWATER STREET</td>\n",
       "      <td>EDGEWATER STREET</td>\n",
       "      <td>ADDRESS</td>\n",
       "      <td>STATEN ISLAND</td>\n",
       "      <td>Closed</td>\n",
       "      <td>The Department of Housing Preservation and Dev...</td>\n",
       "      <td>STATEN ISLAND</td>\n",
       "      <td>40.616468</td>\n",
       "      <td>-74.064305</td>\n",
       "    </tr>\n",
       "  </tbody>\n",
       "</table>\n",
       "</div>"
      ],
      "text/plain": [
       "         Unnamed: 0  Unique Key            Created Date  \\\n",
       "4866089     4866089    37019932  08/24/2017 12:16:02 PM   \n",
       "1312316     1312316    21100217  08/24/2011 12:00:00 AM   \n",
       "1701142     1701142    22780218  02/26/2012 12:00:00 AM   \n",
       "4017199     4017199    32598394  02/04/2016 10:14:03 AM   \n",
       "3543067     3543067    30357707  04/08/2015 12:00:00 AM   \n",
       "\n",
       "                    Closed Date        Complaint Type         Location Type  \\\n",
       "4866089  08/29/2017 04:38:21 PM              ELEVATOR  RESIDENTIAL BUILDING   \n",
       "1312316  09/12/2011 12:00:00 AM  GENERAL CONSTRUCTION  RESIDENTIAL BUILDING   \n",
       "1701142  03/01/2012 12:00:00 AM               HEATING  RESIDENTIAL BUILDING   \n",
       "4017199  02/10/2016 09:14:45 AM       FLOORING/STAIRS  RESIDENTIAL BUILDING   \n",
       "3543067  04/16/2015 12:00:00 AM              PLUMBING  RESIDENTIAL BUILDING   \n",
       "\n",
       "         Incident Zip      Incident Address       Street Name Address Type  \\\n",
       "4866089       11415.0   84-15 AUSTIN STREET     AUSTIN STREET      ADDRESS   \n",
       "1312316       11212.0      549 HERZL STREET      HERZL STREET      ADDRESS   \n",
       "1701142       11216.0  660 LAFAYETTE AVENUE  LAFAYETTE AVENUE      ADDRESS   \n",
       "4017199       10467.0      3450 GATES PLACE       GATES PLACE      ADDRESS   \n",
       "3543067       10305.0  264 EDGEWATER STREET  EDGEWATER STREET      ADDRESS   \n",
       "\n",
       "                  City  Status  \\\n",
       "4866089    Kew Gardens  Closed   \n",
       "1312316       BROOKLYN  Closed   \n",
       "1701142       BROOKLYN  Closed   \n",
       "4017199          BRONX  Closed   \n",
       "3543067  STATEN ISLAND  Closed   \n",
       "\n",
       "                                    Resolution Description        Borough  \\\n",
       "4866089  The Department of Housing Preservation and Dev...         QUEENS   \n",
       "1312316  The Department of Housing Preservation and Dev...       BROOKLYN   \n",
       "1701142  More than one complaint was received for this ...       BROOKLYN   \n",
       "4017199  The Department of Housing Preservation and Dev...          BRONX   \n",
       "3543067  The Department of Housing Preservation and Dev...  STATEN ISLAND   \n",
       "\n",
       "          Latitude  Longitude  \n",
       "4866089  40.707740 -73.827876  \n",
       "1312316  40.656258 -73.912161  \n",
       "1701142  40.690298 -73.947765  \n",
       "4017199  40.883080 -73.883408  \n",
       "3543067  40.616468 -74.064305  "
      ]
     },
     "execution_count": 2,
     "metadata": {},
     "output_type": "execute_result"
    }
   ],
   "source": [
    "df = pd.read_csv(\"311_Service_Requests_from_2010_to_Present_min.csv\")\n",
    "df1 = df.sample(frac = 0.2)\n",
    "df1.head()"
   ]
  },
  {
   "cell_type": "code",
   "execution_count": 3,
   "metadata": {},
   "outputs": [
    {
     "name": "stdout",
     "output_type": "stream",
     "text": [
      "(6019843, 16)\n",
      "(1203969, 16)\n"
     ]
    }
   ],
   "source": [
    "print(df.shape)\n",
    "print(df1.shape)"
   ]
  },
  {
   "cell_type": "code",
   "execution_count": 4,
   "metadata": {},
   "outputs": [],
   "source": [
    "df1.columns = df.columns.str.replace(' ', '_')"
   ]
  },
  {
   "cell_type": "code",
   "execution_count": 5,
   "metadata": {},
   "outputs": [
    {
     "data": {
      "text/plain": [
       "Index(['Unnamed:_0', 'Unique_Key', 'Created_Date', 'Closed_Date',\n",
       "       'Complaint_Type', 'Location_Type', 'Incident_Zip', 'Incident_Address',\n",
       "       'Street_Name', 'Address_Type', 'City', 'Status',\n",
       "       'Resolution_Description', 'Borough', 'Latitude', 'Longitude'],\n",
       "      dtype='object')"
      ]
     },
     "execution_count": 5,
     "metadata": {},
     "output_type": "execute_result"
    }
   ],
   "source": [
    "df1.columns"
   ]
  },
  {
   "cell_type": "code",
   "execution_count": 6,
   "metadata": {},
   "outputs": [
    {
     "name": "stdout",
     "output_type": "stream",
     "text": [
      "['ELEVATOR' 'GENERAL CONSTRUCTION' 'HEATING' 'FLOORING/STAIRS' 'PLUMBING'\n",
      " 'HEAT/HOT WATER' 'UNSANITARY CONDITION' 'WATER LEAK' 'SAFETY'\n",
      " 'PAINT - PLASTER' 'APPLIANCE' 'NONCONST' 'GENERAL' 'DOOR/WINDOW'\n",
      " 'PAINT/PLASTER' 'ELECTRIC' 'HPD Literature Request' 'OUTSIDE BUILDING'\n",
      " 'Unsanitary Condition' 'CONSTRUCTION' 'General' 'Safety' 'STRUCTURAL'\n",
      " 'Plumbing' 'AGENCY' 'Appliance' 'VACANT APARTMENT' 'Outside Building']\n"
     ]
    }
   ],
   "source": [
    "Complaint_TypeX = df1.Complaint_Type.unique()\n",
    "print(Complaint_TypeX )"
   ]
  },
  {
   "cell_type": "code",
   "execution_count": 7,
   "metadata": {},
   "outputs": [
    {
     "name": "stdout",
     "output_type": "stream",
     "text": [
      "HEATING 177485\n",
      "HEAT/HOT WATER 252055\n"
     ]
    }
   ],
   "source": [
    "for i in Complaint_TypeX:\n",
    "    Complaint_count = df1.Complaint_Type.value_counts()[i]\n",
    "    if Complaint_count>800000*0.2: \n",
    "        print(i , Complaint_count)"
   ]
  },
  {
   "cell_type": "code",
   "execution_count": 8,
   "metadata": {},
   "outputs": [],
   "source": [
    "df1.set_index('Complaint_Type' , inplace = True )"
   ]
  },
  {
   "cell_type": "code",
   "execution_count": 9,
   "metadata": {},
   "outputs": [
    {
     "data": {
      "text/html": [
       "<div>\n",
       "<style scoped>\n",
       "    .dataframe tbody tr th:only-of-type {\n",
       "        vertical-align: middle;\n",
       "    }\n",
       "\n",
       "    .dataframe tbody tr th {\n",
       "        vertical-align: top;\n",
       "    }\n",
       "\n",
       "    .dataframe thead th {\n",
       "        text-align: right;\n",
       "    }\n",
       "</style>\n",
       "<table border=\"1\" class=\"dataframe\">\n",
       "  <thead>\n",
       "    <tr style=\"text-align: right;\">\n",
       "      <th></th>\n",
       "      <th>Unnamed:_0</th>\n",
       "      <th>Unique_Key</th>\n",
       "      <th>Created_Date</th>\n",
       "      <th>Closed_Date</th>\n",
       "      <th>Location_Type</th>\n",
       "      <th>Incident_Zip</th>\n",
       "      <th>Incident_Address</th>\n",
       "      <th>Street_Name</th>\n",
       "      <th>Address_Type</th>\n",
       "      <th>City</th>\n",
       "      <th>Status</th>\n",
       "      <th>Resolution_Description</th>\n",
       "      <th>Borough</th>\n",
       "      <th>Latitude</th>\n",
       "      <th>Longitude</th>\n",
       "    </tr>\n",
       "    <tr>\n",
       "      <th>Complaint_Type</th>\n",
       "      <th></th>\n",
       "      <th></th>\n",
       "      <th></th>\n",
       "      <th></th>\n",
       "      <th></th>\n",
       "      <th></th>\n",
       "      <th></th>\n",
       "      <th></th>\n",
       "      <th></th>\n",
       "      <th></th>\n",
       "      <th></th>\n",
       "      <th></th>\n",
       "      <th></th>\n",
       "      <th></th>\n",
       "      <th></th>\n",
       "    </tr>\n",
       "  </thead>\n",
       "  <tbody>\n",
       "    <tr>\n",
       "      <th>ELEVATOR</th>\n",
       "      <td>4866089</td>\n",
       "      <td>37019932</td>\n",
       "      <td>08/24/2017 12:16:02 PM</td>\n",
       "      <td>08/29/2017 04:38:21 PM</td>\n",
       "      <td>RESIDENTIAL BUILDING</td>\n",
       "      <td>11415.0</td>\n",
       "      <td>84-15 AUSTIN STREET</td>\n",
       "      <td>AUSTIN STREET</td>\n",
       "      <td>ADDRESS</td>\n",
       "      <td>Kew Gardens</td>\n",
       "      <td>Closed</td>\n",
       "      <td>The Department of Housing Preservation and Dev...</td>\n",
       "      <td>QUEENS</td>\n",
       "      <td>40.707740</td>\n",
       "      <td>-73.827876</td>\n",
       "    </tr>\n",
       "    <tr>\n",
       "      <th>GENERAL CONSTRUCTION</th>\n",
       "      <td>1312316</td>\n",
       "      <td>21100217</td>\n",
       "      <td>08/24/2011 12:00:00 AM</td>\n",
       "      <td>09/12/2011 12:00:00 AM</td>\n",
       "      <td>RESIDENTIAL BUILDING</td>\n",
       "      <td>11212.0</td>\n",
       "      <td>549 HERZL STREET</td>\n",
       "      <td>HERZL STREET</td>\n",
       "      <td>ADDRESS</td>\n",
       "      <td>BROOKLYN</td>\n",
       "      <td>Closed</td>\n",
       "      <td>The Department of Housing Preservation and Dev...</td>\n",
       "      <td>BROOKLYN</td>\n",
       "      <td>40.656258</td>\n",
       "      <td>-73.912161</td>\n",
       "    </tr>\n",
       "    <tr>\n",
       "      <th>HEATING</th>\n",
       "      <td>1701142</td>\n",
       "      <td>22780218</td>\n",
       "      <td>02/26/2012 12:00:00 AM</td>\n",
       "      <td>03/01/2012 12:00:00 AM</td>\n",
       "      <td>RESIDENTIAL BUILDING</td>\n",
       "      <td>11216.0</td>\n",
       "      <td>660 LAFAYETTE AVENUE</td>\n",
       "      <td>LAFAYETTE AVENUE</td>\n",
       "      <td>ADDRESS</td>\n",
       "      <td>BROOKLYN</td>\n",
       "      <td>Closed</td>\n",
       "      <td>More than one complaint was received for this ...</td>\n",
       "      <td>BROOKLYN</td>\n",
       "      <td>40.690298</td>\n",
       "      <td>-73.947765</td>\n",
       "    </tr>\n",
       "    <tr>\n",
       "      <th>FLOORING/STAIRS</th>\n",
       "      <td>4017199</td>\n",
       "      <td>32598394</td>\n",
       "      <td>02/04/2016 10:14:03 AM</td>\n",
       "      <td>02/10/2016 09:14:45 AM</td>\n",
       "      <td>RESIDENTIAL BUILDING</td>\n",
       "      <td>10467.0</td>\n",
       "      <td>3450 GATES PLACE</td>\n",
       "      <td>GATES PLACE</td>\n",
       "      <td>ADDRESS</td>\n",
       "      <td>BRONX</td>\n",
       "      <td>Closed</td>\n",
       "      <td>The Department of Housing Preservation and Dev...</td>\n",
       "      <td>BRONX</td>\n",
       "      <td>40.883080</td>\n",
       "      <td>-73.883408</td>\n",
       "    </tr>\n",
       "    <tr>\n",
       "      <th>PLUMBING</th>\n",
       "      <td>3543067</td>\n",
       "      <td>30357707</td>\n",
       "      <td>04/08/2015 12:00:00 AM</td>\n",
       "      <td>04/16/2015 12:00:00 AM</td>\n",
       "      <td>RESIDENTIAL BUILDING</td>\n",
       "      <td>10305.0</td>\n",
       "      <td>264 EDGEWATER STREET</td>\n",
       "      <td>EDGEWATER STREET</td>\n",
       "      <td>ADDRESS</td>\n",
       "      <td>STATEN ISLAND</td>\n",
       "      <td>Closed</td>\n",
       "      <td>The Department of Housing Preservation and Dev...</td>\n",
       "      <td>STATEN ISLAND</td>\n",
       "      <td>40.616468</td>\n",
       "      <td>-74.064305</td>\n",
       "    </tr>\n",
       "  </tbody>\n",
       "</table>\n",
       "</div>"
      ],
      "text/plain": [
       "                      Unnamed:_0  Unique_Key            Created_Date  \\\n",
       "Complaint_Type                                                         \n",
       "ELEVATOR                 4866089    37019932  08/24/2017 12:16:02 PM   \n",
       "GENERAL CONSTRUCTION     1312316    21100217  08/24/2011 12:00:00 AM   \n",
       "HEATING                  1701142    22780218  02/26/2012 12:00:00 AM   \n",
       "FLOORING/STAIRS          4017199    32598394  02/04/2016 10:14:03 AM   \n",
       "PLUMBING                 3543067    30357707  04/08/2015 12:00:00 AM   \n",
       "\n",
       "                                 Closed_Date         Location_Type  \\\n",
       "Complaint_Type                                                       \n",
       "ELEVATOR              08/29/2017 04:38:21 PM  RESIDENTIAL BUILDING   \n",
       "GENERAL CONSTRUCTION  09/12/2011 12:00:00 AM  RESIDENTIAL BUILDING   \n",
       "HEATING               03/01/2012 12:00:00 AM  RESIDENTIAL BUILDING   \n",
       "FLOORING/STAIRS       02/10/2016 09:14:45 AM  RESIDENTIAL BUILDING   \n",
       "PLUMBING              04/16/2015 12:00:00 AM  RESIDENTIAL BUILDING   \n",
       "\n",
       "                      Incident_Zip      Incident_Address       Street_Name  \\\n",
       "Complaint_Type                                                               \n",
       "ELEVATOR                   11415.0   84-15 AUSTIN STREET     AUSTIN STREET   \n",
       "GENERAL CONSTRUCTION       11212.0      549 HERZL STREET      HERZL STREET   \n",
       "HEATING                    11216.0  660 LAFAYETTE AVENUE  LAFAYETTE AVENUE   \n",
       "FLOORING/STAIRS            10467.0      3450 GATES PLACE       GATES PLACE   \n",
       "PLUMBING                   10305.0  264 EDGEWATER STREET  EDGEWATER STREET   \n",
       "\n",
       "                     Address_Type           City  Status  \\\n",
       "Complaint_Type                                             \n",
       "ELEVATOR                  ADDRESS    Kew Gardens  Closed   \n",
       "GENERAL CONSTRUCTION      ADDRESS       BROOKLYN  Closed   \n",
       "HEATING                   ADDRESS       BROOKLYN  Closed   \n",
       "FLOORING/STAIRS           ADDRESS          BRONX  Closed   \n",
       "PLUMBING                  ADDRESS  STATEN ISLAND  Closed   \n",
       "\n",
       "                                                 Resolution_Description  \\\n",
       "Complaint_Type                                                            \n",
       "ELEVATOR              The Department of Housing Preservation and Dev...   \n",
       "GENERAL CONSTRUCTION  The Department of Housing Preservation and Dev...   \n",
       "HEATING               More than one complaint was received for this ...   \n",
       "FLOORING/STAIRS       The Department of Housing Preservation and Dev...   \n",
       "PLUMBING              The Department of Housing Preservation and Dev...   \n",
       "\n",
       "                            Borough   Latitude  Longitude  \n",
       "Complaint_Type                                             \n",
       "ELEVATOR                     QUEENS  40.707740 -73.827876  \n",
       "GENERAL CONSTRUCTION       BROOKLYN  40.656258 -73.912161  \n",
       "HEATING                    BROOKLYN  40.690298 -73.947765  \n",
       "FLOORING/STAIRS               BRONX  40.883080 -73.883408  \n",
       "PLUMBING              STATEN ISLAND  40.616468 -74.064305  "
      ]
     },
     "execution_count": 9,
     "metadata": {},
     "output_type": "execute_result"
    }
   ],
   "source": [
    "df1.head()"
   ]
  },
  {
   "cell_type": "code",
   "execution_count": 10,
   "metadata": {},
   "outputs": [],
   "source": [
    "df_BR = df1.loc[['HEAT/HOT WATER','HEATING']]"
   ]
  },
  {
   "cell_type": "code",
   "execution_count": 11,
   "metadata": {},
   "outputs": [
    {
     "data": {
      "text/html": [
       "<div>\n",
       "<style scoped>\n",
       "    .dataframe tbody tr th:only-of-type {\n",
       "        vertical-align: middle;\n",
       "    }\n",
       "\n",
       "    .dataframe tbody tr th {\n",
       "        vertical-align: top;\n",
       "    }\n",
       "\n",
       "    .dataframe thead th {\n",
       "        text-align: right;\n",
       "    }\n",
       "</style>\n",
       "<table border=\"1\" class=\"dataframe\">\n",
       "  <thead>\n",
       "    <tr style=\"text-align: right;\">\n",
       "      <th></th>\n",
       "      <th>Unnamed:_0</th>\n",
       "      <th>Unique_Key</th>\n",
       "      <th>Created_Date</th>\n",
       "      <th>Closed_Date</th>\n",
       "      <th>Location_Type</th>\n",
       "      <th>Incident_Zip</th>\n",
       "      <th>Incident_Address</th>\n",
       "      <th>Street_Name</th>\n",
       "      <th>Address_Type</th>\n",
       "      <th>City</th>\n",
       "      <th>Status</th>\n",
       "      <th>Resolution_Description</th>\n",
       "      <th>Borough</th>\n",
       "      <th>Latitude</th>\n",
       "      <th>Longitude</th>\n",
       "    </tr>\n",
       "    <tr>\n",
       "      <th>Complaint_Type</th>\n",
       "      <th></th>\n",
       "      <th></th>\n",
       "      <th></th>\n",
       "      <th></th>\n",
       "      <th></th>\n",
       "      <th></th>\n",
       "      <th></th>\n",
       "      <th></th>\n",
       "      <th></th>\n",
       "      <th></th>\n",
       "      <th></th>\n",
       "      <th></th>\n",
       "      <th></th>\n",
       "      <th></th>\n",
       "      <th></th>\n",
       "    </tr>\n",
       "  </thead>\n",
       "  <tbody>\n",
       "    <tr>\n",
       "      <th>HEAT/HOT WATER</th>\n",
       "      <td>3981103</td>\n",
       "      <td>32453269</td>\n",
       "      <td>01/19/2016 12:00:46 PM</td>\n",
       "      <td>01/20/2016 09:16:44 PM</td>\n",
       "      <td>RESIDENTIAL BUILDING</td>\n",
       "      <td>11216.0</td>\n",
       "      <td>29 BREVOORT PLACE</td>\n",
       "      <td>BREVOORT PLACE</td>\n",
       "      <td>ADDRESS</td>\n",
       "      <td>BROOKLYN</td>\n",
       "      <td>Closed</td>\n",
       "      <td>The Department of Housing Preservation and Dev...</td>\n",
       "      <td>BROOKLYN</td>\n",
       "      <td>40.680101</td>\n",
       "      <td>-73.954205</td>\n",
       "    </tr>\n",
       "    <tr>\n",
       "      <th>HEAT/HOT WATER</th>\n",
       "      <td>82746</td>\n",
       "      <td>45237224</td>\n",
       "      <td>12/24/2019 04:18:50 PM</td>\n",
       "      <td>12/24/2019 05:48:23 PM</td>\n",
       "      <td>RESIDENTIAL BUILDING</td>\n",
       "      <td>10466.0</td>\n",
       "      <td>3978 AMUNDSON AVENUE</td>\n",
       "      <td>AMUNDSON AVENUE</td>\n",
       "      <td>ADDRESS</td>\n",
       "      <td>BRONX</td>\n",
       "      <td>Closed</td>\n",
       "      <td>The Department of Housing Preservation and Dev...</td>\n",
       "      <td>BRONX</td>\n",
       "      <td>40.890823</td>\n",
       "      <td>-73.836180</td>\n",
       "    </tr>\n",
       "    <tr>\n",
       "      <th>HEAT/HOT WATER</th>\n",
       "      <td>3453902</td>\n",
       "      <td>30000617</td>\n",
       "      <td>02/20/2015 12:00:00 AM</td>\n",
       "      <td>02/24/2015 12:00:00 AM</td>\n",
       "      <td>RESIDENTIAL BUILDING</td>\n",
       "      <td>10031.0</td>\n",
       "      <td>710 RIVERSIDE DRIVE</td>\n",
       "      <td>RIVERSIDE DRIVE</td>\n",
       "      <td>ADDRESS</td>\n",
       "      <td>NEW YORK</td>\n",
       "      <td>Closed</td>\n",
       "      <td>The Department of Housing Preservation and Dev...</td>\n",
       "      <td>MANHATTAN</td>\n",
       "      <td>40.829019</td>\n",
       "      <td>-73.950326</td>\n",
       "    </tr>\n",
       "    <tr>\n",
       "      <th>HEAT/HOT WATER</th>\n",
       "      <td>3786982</td>\n",
       "      <td>31783858</td>\n",
       "      <td>10/18/2015 01:01:38 PM</td>\n",
       "      <td>10/21/2015 04:25:02 PM</td>\n",
       "      <td>RESIDENTIAL BUILDING</td>\n",
       "      <td>10459.0</td>\n",
       "      <td>951 HOE AVENUE</td>\n",
       "      <td>HOE AVENUE</td>\n",
       "      <td>ADDRESS</td>\n",
       "      <td>BRONX</td>\n",
       "      <td>Closed</td>\n",
       "      <td>The complaint you filed is a duplicate of a co...</td>\n",
       "      <td>BRONX</td>\n",
       "      <td>40.822088</td>\n",
       "      <td>-73.890340</td>\n",
       "    </tr>\n",
       "    <tr>\n",
       "      <th>HEAT/HOT WATER</th>\n",
       "      <td>5023358</td>\n",
       "      <td>37881013</td>\n",
       "      <td>12/07/2017 02:10:37 AM</td>\n",
       "      <td>12/12/2017 11:28:19 AM</td>\n",
       "      <td>RESIDENTIAL BUILDING</td>\n",
       "      <td>11226.0</td>\n",
       "      <td>370 EAST   31 STREET</td>\n",
       "      <td>EAST   31 STREET</td>\n",
       "      <td>ADDRESS</td>\n",
       "      <td>BROOKLYN</td>\n",
       "      <td>Closed</td>\n",
       "      <td>The complaint you filed is a duplicate of a co...</td>\n",
       "      <td>BROOKLYN</td>\n",
       "      <td>40.641809</td>\n",
       "      <td>-73.947640</td>\n",
       "    </tr>\n",
       "  </tbody>\n",
       "</table>\n",
       "</div>"
      ],
      "text/plain": [
       "                Unnamed:_0  Unique_Key            Created_Date  \\\n",
       "Complaint_Type                                                   \n",
       "HEAT/HOT WATER     3981103    32453269  01/19/2016 12:00:46 PM   \n",
       "HEAT/HOT WATER       82746    45237224  12/24/2019 04:18:50 PM   \n",
       "HEAT/HOT WATER     3453902    30000617  02/20/2015 12:00:00 AM   \n",
       "HEAT/HOT WATER     3786982    31783858  10/18/2015 01:01:38 PM   \n",
       "HEAT/HOT WATER     5023358    37881013  12/07/2017 02:10:37 AM   \n",
       "\n",
       "                           Closed_Date         Location_Type  Incident_Zip  \\\n",
       "Complaint_Type                                                               \n",
       "HEAT/HOT WATER  01/20/2016 09:16:44 PM  RESIDENTIAL BUILDING       11216.0   \n",
       "HEAT/HOT WATER  12/24/2019 05:48:23 PM  RESIDENTIAL BUILDING       10466.0   \n",
       "HEAT/HOT WATER  02/24/2015 12:00:00 AM  RESIDENTIAL BUILDING       10031.0   \n",
       "HEAT/HOT WATER  10/21/2015 04:25:02 PM  RESIDENTIAL BUILDING       10459.0   \n",
       "HEAT/HOT WATER  12/12/2017 11:28:19 AM  RESIDENTIAL BUILDING       11226.0   \n",
       "\n",
       "                    Incident_Address       Street_Name Address_Type      City  \\\n",
       "Complaint_Type                                                                  \n",
       "HEAT/HOT WATER     29 BREVOORT PLACE    BREVOORT PLACE      ADDRESS  BROOKLYN   \n",
       "HEAT/HOT WATER  3978 AMUNDSON AVENUE   AMUNDSON AVENUE      ADDRESS     BRONX   \n",
       "HEAT/HOT WATER   710 RIVERSIDE DRIVE   RIVERSIDE DRIVE      ADDRESS  NEW YORK   \n",
       "HEAT/HOT WATER        951 HOE AVENUE        HOE AVENUE      ADDRESS     BRONX   \n",
       "HEAT/HOT WATER  370 EAST   31 STREET  EAST   31 STREET      ADDRESS  BROOKLYN   \n",
       "\n",
       "                Status                             Resolution_Description  \\\n",
       "Complaint_Type                                                              \n",
       "HEAT/HOT WATER  Closed  The Department of Housing Preservation and Dev...   \n",
       "HEAT/HOT WATER  Closed  The Department of Housing Preservation and Dev...   \n",
       "HEAT/HOT WATER  Closed  The Department of Housing Preservation and Dev...   \n",
       "HEAT/HOT WATER  Closed  The complaint you filed is a duplicate of a co...   \n",
       "HEAT/HOT WATER  Closed  The complaint you filed is a duplicate of a co...   \n",
       "\n",
       "                  Borough   Latitude  Longitude  \n",
       "Complaint_Type                                   \n",
       "HEAT/HOT WATER   BROOKLYN  40.680101 -73.954205  \n",
       "HEAT/HOT WATER      BRONX  40.890823 -73.836180  \n",
       "HEAT/HOT WATER  MANHATTAN  40.829019 -73.950326  \n",
       "HEAT/HOT WATER      BRONX  40.822088 -73.890340  \n",
       "HEAT/HOT WATER   BROOKLYN  40.641809 -73.947640  "
      ]
     },
     "execution_count": 11,
     "metadata": {},
     "output_type": "execute_result"
    }
   ],
   "source": [
    "df_BR.head() "
   ]
  },
  {
   "cell_type": "code",
   "execution_count": 12,
   "metadata": {},
   "outputs": [],
   "source": [
    "df_BR.Borough.dropna()\n",
    "Borough_TypeX = df_BR.Borough.unique()"
   ]
  },
  {
   "cell_type": "code",
   "execution_count": 13,
   "metadata": {},
   "outputs": [
    {
     "data": {
      "text/plain": [
       "BRONX            120995\n",
       "BROOKLYN         115226\n",
       "MANHATTAN         84448\n",
       "Unspecified       56507\n",
       "QUEENS            48718\n",
       "STATEN ISLAND      3646\n",
       "Name: Borough, dtype: int64"
      ]
     },
     "execution_count": 13,
     "metadata": {},
     "output_type": "execute_result"
    }
   ],
   "source": [
    "Borough_order = df_BR.Borough.value_counts()[Borough_TypeX]\n",
    "Borough_order.sort_values(ascending=False)"
   ]
  },
  {
   "cell_type": "code",
   "execution_count": 14,
   "metadata": {},
   "outputs": [],
   "source": [
    "df_BR.Incident_Zip.dropna(inplace = True)\n",
    "ZIP_TypeX = df_BR.Incident_Zip.unique()"
   ]
  },
  {
   "cell_type": "code",
   "execution_count": 15,
   "metadata": {},
   "outputs": [
    {
     "name": "stdout",
     "output_type": "stream",
     "text": [
      "11226.0 13845\n"
     ]
    }
   ],
   "source": [
    "Count = 0\n",
    "for i in ZIP_TypeX:\n",
    "    Count = df_BR.Incident_Zip.value_counts(ascending=False)[i]\n",
    "    if  i == (11226 or 10466 or 10030 or 10045 or 11415):\n",
    "        print(i, Count)"
   ]
  },
  {
   "cell_type": "code",
   "execution_count": 16,
   "metadata": {},
   "outputs": [],
   "source": [
    "df_BR.Incident_Address.dropna(inplace = True)\n",
    "Address_TypeX = df_BR.Incident_Address.unique()"
   ]
  },
  {
   "cell_type": "code",
   "execution_count": 17,
   "metadata": {},
   "outputs": [
    {
     "data": {
      "text/plain": [
       "29 BREVOORT PLACE        4\n",
       "3978 AMUNDSON AVENUE     5\n",
       "710 RIVERSIDE DRIVE      6\n",
       "951 HOE AVENUE          30\n",
       "370 EAST   31 STREET    14\n",
       "                        ..\n",
       "3709 ATLANTIC AVENUE     1\n",
       "1206 FLATBUSH AVENUE     1\n",
       "632 ROCKAWAY PARKWAY     1\n",
       "941 FTELEY AVENUE        1\n",
       "527 WEST 143 STREET      1\n",
       "Name: Incident_Address, Length: 73954, dtype: int64"
      ]
     },
     "execution_count": 17,
     "metadata": {},
     "output_type": "execute_result"
    }
   ],
   "source": [
    "df_BR.Incident_Address.value_counts()[Address_TypeX]     "
   ]
  },
  {
   "cell_type": "code",
   "execution_count": 18,
   "metadata": {},
   "outputs": [
    {
     "data": {
      "text/plain": [
       "array(['Closed', 'Open'], dtype=object)"
      ]
     },
     "execution_count": 18,
     "metadata": {},
     "output_type": "execute_result"
    }
   ],
   "source": [
    "Status_TypeX = df_BR.Status.unique()\n",
    "Status_TypeX"
   ]
  },
  {
   "cell_type": "code",
   "execution_count": 19,
   "metadata": {},
   "outputs": [
    {
     "data": {
      "text/plain": [
       "Closed    426326\n",
       "Open        3214\n",
       "Name: Status, dtype: int64"
      ]
     },
     "execution_count": 19,
     "metadata": {},
     "output_type": "execute_result"
    }
   ],
   "source": [
    "df_BR.Status.value_counts()[Status_TypeX]"
   ]
  },
  {
   "cell_type": "code",
   "execution_count": 20,
   "metadata": {},
   "outputs": [
    {
     "name": "stderr",
     "output_type": "stream",
     "text": [
      "C:\\Users\\ET USER\\anaconda3\\lib\\site-packages\\IPython\\core\\interactiveshell.py:3063: DtypeWarning: Columns (19,20,22,23,64,65,80) have mixed types.Specify dtype option on import or set low_memory=False.\n",
      "  interactivity=interactivity, compiler=compiler, result=result)\n"
     ]
    },
    {
     "data": {
      "text/plain": [
       "(17971, 87)"
      ]
     },
     "execution_count": 20,
     "metadata": {},
     "output_type": "execute_result"
    }
   ],
   "source": [
    "df_Bx = pd.read_csv(\"PLuto/BX_18v1.csv\")\n",
    "df_Bx1 = df_Bx.sample(frac = 0.2)\n",
    "df_Bx1.head()\n",
    "df_Bx1.shape"
   ]
  },
  {
   "cell_type": "code",
   "execution_count": 21,
   "metadata": {},
   "outputs": [
    {
     "data": {
      "text/plain": [
       "Index(['Borough', 'Block', 'Lot', 'CD', 'CT2010', 'CB2010', 'SchoolDist',\n",
       "       'Council', 'ZipCode', 'FireComp', 'PolicePrct', 'HealthCenterDistrict',\n",
       "       'HealthArea', 'SanitBoro', 'SanitDistrict', 'SanitSub', 'Address',\n",
       "       'ZoneDist1', 'ZoneDist2', 'ZoneDist3', 'ZoneDist4', 'Overlay1',\n",
       "       'Overlay2', 'SPDist1', 'SPDist2', 'SPDist3', 'LtdHeight', 'SplitZone',\n",
       "       'BldgClass', 'LandUse', 'Easements', 'OwnerType', 'OwnerName',\n",
       "       'LotArea', 'BldgArea', 'ComArea', 'ResArea', 'OfficeArea', 'RetailArea',\n",
       "       'GarageArea', 'StrgeArea', 'FactryArea', 'OtherArea', 'AreaSource',\n",
       "       'NumBldgs', 'NumFloors', 'UnitsRes', 'UnitsTotal', 'LotFront',\n",
       "       'LotDepth', 'BldgFront', 'BldgDepth', 'Ext', 'ProxCode', 'IrrLotCode',\n",
       "       'LotType', 'BsmtCode', 'AssessLand', 'AssessTot', 'ExemptLand',\n",
       "       'ExemptTot', 'YearBuilt', 'YearAlter1', 'YearAlter2', 'HistDist',\n",
       "       'Landmark', 'BuiltFAR', 'ResidFAR', 'CommFAR', 'FacilFAR', 'BoroCode',\n",
       "       'BBL', 'CondoNo', 'Tract2010', 'XCoord', 'YCoord', 'ZoneMap', 'ZMCode',\n",
       "       'Sanborn', 'TaxMap', 'EDesigNum', 'APPBBL', 'APPDate', 'PLUTOMapID',\n",
       "       'FIRM07_FLAG', 'PFIRM15_FLAG', 'Version'],\n",
       "      dtype='object')"
      ]
     },
     "execution_count": 21,
     "metadata": {},
     "output_type": "execute_result"
    }
   ],
   "source": [
    "df_Bx1.columns"
   ]
  },
  {
   "cell_type": "code",
   "execution_count": 22,
   "metadata": {},
   "outputs": [],
   "source": [
    "df_Bxnew = df_Bx1[['Address', 'BldgArea', 'BldgDepth', 'BuiltFAR', 'CommFAR', 'FacilFAR', 'Lot', 'LotArea', 'LotDepth', 'NumBldgs', 'NumFloors', 'OfficeArea', 'ResArea', 'ResidFAR', 'RetailArea', 'YearBuilt', 'YearAlter1', 'ZipCode', 'YCoord', 'XCoord']]"
   ]
  },
  {
   "cell_type": "code",
   "execution_count": 23,
   "metadata": {},
   "outputs": [
    {
     "data": {
      "text/html": [
       "<div>\n",
       "<style scoped>\n",
       "    .dataframe tbody tr th:only-of-type {\n",
       "        vertical-align: middle;\n",
       "    }\n",
       "\n",
       "    .dataframe tbody tr th {\n",
       "        vertical-align: top;\n",
       "    }\n",
       "\n",
       "    .dataframe thead th {\n",
       "        text-align: right;\n",
       "    }\n",
       "</style>\n",
       "<table border=\"1\" class=\"dataframe\">\n",
       "  <thead>\n",
       "    <tr style=\"text-align: right;\">\n",
       "      <th></th>\n",
       "      <th>Address</th>\n",
       "      <th>BldgArea</th>\n",
       "      <th>BldgDepth</th>\n",
       "      <th>BuiltFAR</th>\n",
       "      <th>CommFAR</th>\n",
       "      <th>FacilFAR</th>\n",
       "      <th>Lot</th>\n",
       "      <th>LotArea</th>\n",
       "      <th>LotDepth</th>\n",
       "      <th>NumBldgs</th>\n",
       "      <th>NumFloors</th>\n",
       "      <th>OfficeArea</th>\n",
       "      <th>ResArea</th>\n",
       "      <th>ResidFAR</th>\n",
       "      <th>RetailArea</th>\n",
       "      <th>YearBuilt</th>\n",
       "      <th>YearAlter1</th>\n",
       "      <th>ZipCode</th>\n",
       "      <th>YCoord</th>\n",
       "      <th>XCoord</th>\n",
       "    </tr>\n",
       "  </thead>\n",
       "  <tbody>\n",
       "    <tr>\n",
       "      <th>50984</th>\n",
       "      <td>2548 YOUNG AVENUE</td>\n",
       "      <td>1982</td>\n",
       "      <td>40.0</td>\n",
       "      <td>0.62</td>\n",
       "      <td>0.0</td>\n",
       "      <td>2.0</td>\n",
       "      <td>29</td>\n",
       "      <td>3200</td>\n",
       "      <td>100.00</td>\n",
       "      <td>1</td>\n",
       "      <td>1.5</td>\n",
       "      <td>0</td>\n",
       "      <td>1220</td>\n",
       "      <td>0.90</td>\n",
       "      <td>0</td>\n",
       "      <td>1955</td>\n",
       "      <td>0</td>\n",
       "      <td>10469.0</td>\n",
       "      <td>254108.0</td>\n",
       "      <td>1026328.0</td>\n",
       "    </tr>\n",
       "    <tr>\n",
       "      <th>88532</th>\n",
       "      <td>5627 DELAFIELD AVENUE</td>\n",
       "      <td>1480</td>\n",
       "      <td>25.0</td>\n",
       "      <td>0.30</td>\n",
       "      <td>0.0</td>\n",
       "      <td>1.0</td>\n",
       "      <td>165</td>\n",
       "      <td>5000</td>\n",
       "      <td>100.00</td>\n",
       "      <td>2</td>\n",
       "      <td>2.0</td>\n",
       "      <td>0</td>\n",
       "      <td>1480</td>\n",
       "      <td>0.60</td>\n",
       "      <td>0</td>\n",
       "      <td>1920</td>\n",
       "      <td>0</td>\n",
       "      <td>10471.0</td>\n",
       "      <td>268945.0</td>\n",
       "      <td>1010787.0</td>\n",
       "    </tr>\n",
       "    <tr>\n",
       "      <th>59030</th>\n",
       "      <td>1042 EAST 220 STREET</td>\n",
       "      <td>1782</td>\n",
       "      <td>33.0</td>\n",
       "      <td>0.90</td>\n",
       "      <td>0.0</td>\n",
       "      <td>2.0</td>\n",
       "      <td>44</td>\n",
       "      <td>1971</td>\n",
       "      <td>109.50</td>\n",
       "      <td>1</td>\n",
       "      <td>3.0</td>\n",
       "      <td>0</td>\n",
       "      <td>1782</td>\n",
       "      <td>0.90</td>\n",
       "      <td>0</td>\n",
       "      <td>1955</td>\n",
       "      <td>0</td>\n",
       "      <td>10469.0</td>\n",
       "      <td>260266.0</td>\n",
       "      <td>1024967.0</td>\n",
       "    </tr>\n",
       "    <tr>\n",
       "      <th>31675</th>\n",
       "      <td>1833 STORY AVENUE</td>\n",
       "      <td>2310</td>\n",
       "      <td>55.0</td>\n",
       "      <td>1.33</td>\n",
       "      <td>0.0</td>\n",
       "      <td>4.8</td>\n",
       "      <td>32</td>\n",
       "      <td>1743</td>\n",
       "      <td>83.00</td>\n",
       "      <td>1</td>\n",
       "      <td>2.0</td>\n",
       "      <td>0</td>\n",
       "      <td>2310</td>\n",
       "      <td>2.43</td>\n",
       "      <td>0</td>\n",
       "      <td>1993</td>\n",
       "      <td>0</td>\n",
       "      <td>10473.0</td>\n",
       "      <td>239451.0</td>\n",
       "      <td>1022092.0</td>\n",
       "    </tr>\n",
       "    <tr>\n",
       "      <th>36720</th>\n",
       "      <td>2337 WATERBURY AVENUE</td>\n",
       "      <td>140947</td>\n",
       "      <td>200.0</td>\n",
       "      <td>0.94</td>\n",
       "      <td>2.0</td>\n",
       "      <td>4.8</td>\n",
       "      <td>70</td>\n",
       "      <td>150553</td>\n",
       "      <td>392.34</td>\n",
       "      <td>1</td>\n",
       "      <td>4.0</td>\n",
       "      <td>0</td>\n",
       "      <td>0</td>\n",
       "      <td>0.00</td>\n",
       "      <td>0</td>\n",
       "      <td>2001</td>\n",
       "      <td>0</td>\n",
       "      <td>10462.0</td>\n",
       "      <td>243660.0</td>\n",
       "      <td>1026741.0</td>\n",
       "    </tr>\n",
       "  </tbody>\n",
       "</table>\n",
       "</div>"
      ],
      "text/plain": [
       "                     Address  BldgArea  BldgDepth  BuiltFAR  CommFAR  \\\n",
       "50984      2548 YOUNG AVENUE      1982       40.0      0.62      0.0   \n",
       "88532  5627 DELAFIELD AVENUE      1480       25.0      0.30      0.0   \n",
       "59030   1042 EAST 220 STREET      1782       33.0      0.90      0.0   \n",
       "31675      1833 STORY AVENUE      2310       55.0      1.33      0.0   \n",
       "36720  2337 WATERBURY AVENUE    140947      200.0      0.94      2.0   \n",
       "\n",
       "       FacilFAR  Lot  LotArea  LotDepth  NumBldgs  NumFloors  OfficeArea  \\\n",
       "50984       2.0   29     3200    100.00         1        1.5           0   \n",
       "88532       1.0  165     5000    100.00         2        2.0           0   \n",
       "59030       2.0   44     1971    109.50         1        3.0           0   \n",
       "31675       4.8   32     1743     83.00         1        2.0           0   \n",
       "36720       4.8   70   150553    392.34         1        4.0           0   \n",
       "\n",
       "       ResArea  ResidFAR  RetailArea  YearBuilt  YearAlter1  ZipCode  \\\n",
       "50984     1220      0.90           0       1955           0  10469.0   \n",
       "88532     1480      0.60           0       1920           0  10471.0   \n",
       "59030     1782      0.90           0       1955           0  10469.0   \n",
       "31675     2310      2.43           0       1993           0  10473.0   \n",
       "36720        0      0.00           0       2001           0  10462.0   \n",
       "\n",
       "         YCoord     XCoord  \n",
       "50984  254108.0  1026328.0  \n",
       "88532  268945.0  1010787.0  \n",
       "59030  260266.0  1024967.0  \n",
       "31675  239451.0  1022092.0  \n",
       "36720  243660.0  1026741.0  "
      ]
     },
     "execution_count": 23,
     "metadata": {},
     "output_type": "execute_result"
    }
   ],
   "source": [
    "df_Bxnew.head()"
   ]
  },
  {
   "cell_type": "code",
   "execution_count": 24,
   "metadata": {},
   "outputs": [],
   "source": [
    "Bx_add = df_Bxnew.Address.unique()"
   ]
  },
  {
   "cell_type": "code",
   "execution_count": 25,
   "metadata": {},
   "outputs": [],
   "source": [
    "common = []\n",
    "for i in Address_TypeX:\n",
    "    for j in Bx_add:\n",
    "        if i == j:\n",
    "            common.append(i)    "
   ]
  },
  {
   "cell_type": "code",
   "execution_count": 26,
   "metadata": {},
   "outputs": [
    {
     "data": {
      "text/plain": [
       "(17971, 20)"
      ]
     },
     "execution_count": 26,
     "metadata": {},
     "output_type": "execute_result"
    }
   ],
   "source": [
    "df_Bxnew.shape"
   ]
  },
  {
   "cell_type": "code",
   "execution_count": 27,
   "metadata": {},
   "outputs": [
    {
     "data": {
      "text/plain": [
       "2380"
      ]
     },
     "execution_count": 27,
     "metadata": {},
     "output_type": "execute_result"
    }
   ],
   "source": [
    "len(common)"
   ]
  },
  {
   "cell_type": "code",
   "execution_count": 28,
   "metadata": {},
   "outputs": [
    {
     "data": {
      "text/plain": [
       "17971"
      ]
     },
     "execution_count": 28,
     "metadata": {},
     "output_type": "execute_result"
    }
   ],
   "source": [
    "Address_list = df_Bxnew.Address.tolist()\n",
    "len(Address_list)"
   ]
  },
  {
   "cell_type": "code",
   "execution_count": 66,
   "metadata": {},
   "outputs": [],
   "source": [
    "Register_complaint = [0]*15590\n",
    "len(Register_complaint)\n",
    "for i,k in zip(Address_list,range(17971)):\n",
    "    for j in common:\n",
    "        if i == j:\n",
    "            Register_complaint.insert(k, 1)\n"
   ]
  },
  {
   "cell_type": "code",
   "execution_count": 67,
   "metadata": {},
   "outputs": [
    {
     "data": {
      "text/plain": [
       "17971"
      ]
     },
     "execution_count": 67,
     "metadata": {},
     "output_type": "execute_result"
    }
   ],
   "source": [
    "len(Register_complaint)"
   ]
  },
  {
   "cell_type": "code",
   "execution_count": 68,
   "metadata": {},
   "outputs": [
    {
     "data": {
      "text/plain": [
       "(17971, 20)"
      ]
     },
     "execution_count": 68,
     "metadata": {},
     "output_type": "execute_result"
    }
   ],
   "source": [
    "df_Bxnew.shape"
   ]
  },
  {
   "cell_type": "code",
   "execution_count": 69,
   "metadata": {},
   "outputs": [
    {
     "name": "stderr",
     "output_type": "stream",
     "text": [
      "C:\\Users\\ET USER\\anaconda3\\lib\\site-packages\\ipykernel_launcher.py:1: SettingWithCopyWarning: \n",
      "A value is trying to be set on a copy of a slice from a DataFrame.\n",
      "Try using .loc[row_indexer,col_indexer] = value instead\n",
      "\n",
      "See the caveats in the documentation: https://pandas.pydata.org/pandas-docs/stable/user_guide/indexing.html#returning-a-view-versus-a-copy\n",
      "  \"\"\"Entry point for launching an IPython kernel.\n"
     ]
    }
   ],
   "source": [
    "df_Bxnew['Complaint'] = Register_complaint"
   ]
  },
  {
   "cell_type": "code",
   "execution_count": 89,
   "metadata": {},
   "outputs": [
    {
     "data": {
      "text/html": [
       "<div>\n",
       "<style scoped>\n",
       "    .dataframe tbody tr th:only-of-type {\n",
       "        vertical-align: middle;\n",
       "    }\n",
       "\n",
       "    .dataframe tbody tr th {\n",
       "        vertical-align: top;\n",
       "    }\n",
       "\n",
       "    .dataframe thead th {\n",
       "        text-align: right;\n",
       "    }\n",
       "</style>\n",
       "<table border=\"1\" class=\"dataframe\">\n",
       "  <thead>\n",
       "    <tr style=\"text-align: right;\">\n",
       "      <th></th>\n",
       "      <th>Address</th>\n",
       "      <th>BldgArea</th>\n",
       "      <th>BldgDepth</th>\n",
       "      <th>BuiltFAR</th>\n",
       "      <th>CommFAR</th>\n",
       "      <th>FacilFAR</th>\n",
       "      <th>Lot</th>\n",
       "      <th>LotArea</th>\n",
       "      <th>LotDepth</th>\n",
       "      <th>NumBldgs</th>\n",
       "      <th>...</th>\n",
       "      <th>OfficeArea</th>\n",
       "      <th>ResArea</th>\n",
       "      <th>ResidFAR</th>\n",
       "      <th>RetailArea</th>\n",
       "      <th>YearBuilt</th>\n",
       "      <th>YearAlter1</th>\n",
       "      <th>ZipCode</th>\n",
       "      <th>YCoord</th>\n",
       "      <th>XCoord</th>\n",
       "      <th>Complaint</th>\n",
       "    </tr>\n",
       "  </thead>\n",
       "  <tbody>\n",
       "    <tr>\n",
       "      <th>50984</th>\n",
       "      <td>2548 YOUNG AVENUE</td>\n",
       "      <td>1982</td>\n",
       "      <td>40.0</td>\n",
       "      <td>0.62</td>\n",
       "      <td>0.0</td>\n",
       "      <td>2.0</td>\n",
       "      <td>29</td>\n",
       "      <td>3200</td>\n",
       "      <td>100.00</td>\n",
       "      <td>1</td>\n",
       "      <td>...</td>\n",
       "      <td>0</td>\n",
       "      <td>1220</td>\n",
       "      <td>0.90</td>\n",
       "      <td>0</td>\n",
       "      <td>1955</td>\n",
       "      <td>0</td>\n",
       "      <td>10469.0</td>\n",
       "      <td>254108.0</td>\n",
       "      <td>1026328.0</td>\n",
       "      <td>0</td>\n",
       "    </tr>\n",
       "    <tr>\n",
       "      <th>88532</th>\n",
       "      <td>5627 DELAFIELD AVENUE</td>\n",
       "      <td>1480</td>\n",
       "      <td>25.0</td>\n",
       "      <td>0.30</td>\n",
       "      <td>0.0</td>\n",
       "      <td>1.0</td>\n",
       "      <td>165</td>\n",
       "      <td>5000</td>\n",
       "      <td>100.00</td>\n",
       "      <td>2</td>\n",
       "      <td>...</td>\n",
       "      <td>0</td>\n",
       "      <td>1480</td>\n",
       "      <td>0.60</td>\n",
       "      <td>0</td>\n",
       "      <td>1920</td>\n",
       "      <td>0</td>\n",
       "      <td>10471.0</td>\n",
       "      <td>268945.0</td>\n",
       "      <td>1010787.0</td>\n",
       "      <td>0</td>\n",
       "    </tr>\n",
       "    <tr>\n",
       "      <th>59030</th>\n",
       "      <td>1042 EAST 220 STREET</td>\n",
       "      <td>1782</td>\n",
       "      <td>33.0</td>\n",
       "      <td>0.90</td>\n",
       "      <td>0.0</td>\n",
       "      <td>2.0</td>\n",
       "      <td>44</td>\n",
       "      <td>1971</td>\n",
       "      <td>109.50</td>\n",
       "      <td>1</td>\n",
       "      <td>...</td>\n",
       "      <td>0</td>\n",
       "      <td>1782</td>\n",
       "      <td>0.90</td>\n",
       "      <td>0</td>\n",
       "      <td>1955</td>\n",
       "      <td>0</td>\n",
       "      <td>10469.0</td>\n",
       "      <td>260266.0</td>\n",
       "      <td>1024967.0</td>\n",
       "      <td>0</td>\n",
       "    </tr>\n",
       "    <tr>\n",
       "      <th>31675</th>\n",
       "      <td>1833 STORY AVENUE</td>\n",
       "      <td>2310</td>\n",
       "      <td>55.0</td>\n",
       "      <td>1.33</td>\n",
       "      <td>0.0</td>\n",
       "      <td>4.8</td>\n",
       "      <td>32</td>\n",
       "      <td>1743</td>\n",
       "      <td>83.00</td>\n",
       "      <td>1</td>\n",
       "      <td>...</td>\n",
       "      <td>0</td>\n",
       "      <td>2310</td>\n",
       "      <td>2.43</td>\n",
       "      <td>0</td>\n",
       "      <td>1993</td>\n",
       "      <td>0</td>\n",
       "      <td>10473.0</td>\n",
       "      <td>239451.0</td>\n",
       "      <td>1022092.0</td>\n",
       "      <td>0</td>\n",
       "    </tr>\n",
       "    <tr>\n",
       "      <th>36720</th>\n",
       "      <td>2337 WATERBURY AVENUE</td>\n",
       "      <td>140947</td>\n",
       "      <td>200.0</td>\n",
       "      <td>0.94</td>\n",
       "      <td>2.0</td>\n",
       "      <td>4.8</td>\n",
       "      <td>70</td>\n",
       "      <td>150553</td>\n",
       "      <td>392.34</td>\n",
       "      <td>1</td>\n",
       "      <td>...</td>\n",
       "      <td>0</td>\n",
       "      <td>0</td>\n",
       "      <td>0.00</td>\n",
       "      <td>0</td>\n",
       "      <td>2001</td>\n",
       "      <td>0</td>\n",
       "      <td>10462.0</td>\n",
       "      <td>243660.0</td>\n",
       "      <td>1026741.0</td>\n",
       "      <td>0</td>\n",
       "    </tr>\n",
       "  </tbody>\n",
       "</table>\n",
       "<p>5 rows × 21 columns</p>\n",
       "</div>"
      ],
      "text/plain": [
       "                     Address  BldgArea  BldgDepth  BuiltFAR  CommFAR  \\\n",
       "50984      2548 YOUNG AVENUE      1982       40.0      0.62      0.0   \n",
       "88532  5627 DELAFIELD AVENUE      1480       25.0      0.30      0.0   \n",
       "59030   1042 EAST 220 STREET      1782       33.0      0.90      0.0   \n",
       "31675      1833 STORY AVENUE      2310       55.0      1.33      0.0   \n",
       "36720  2337 WATERBURY AVENUE    140947      200.0      0.94      2.0   \n",
       "\n",
       "       FacilFAR  Lot  LotArea  LotDepth  NumBldgs  ...  OfficeArea  ResArea  \\\n",
       "50984       2.0   29     3200    100.00         1  ...           0     1220   \n",
       "88532       1.0  165     5000    100.00         2  ...           0     1480   \n",
       "59030       2.0   44     1971    109.50         1  ...           0     1782   \n",
       "31675       4.8   32     1743     83.00         1  ...           0     2310   \n",
       "36720       4.8   70   150553    392.34         1  ...           0        0   \n",
       "\n",
       "       ResidFAR  RetailArea  YearBuilt  YearAlter1  ZipCode    YCoord  \\\n",
       "50984      0.90           0       1955           0  10469.0  254108.0   \n",
       "88532      0.60           0       1920           0  10471.0  268945.0   \n",
       "59030      0.90           0       1955           0  10469.0  260266.0   \n",
       "31675      2.43           0       1993           0  10473.0  239451.0   \n",
       "36720      0.00           0       2001           0  10462.0  243660.0   \n",
       "\n",
       "          XCoord  Complaint  \n",
       "50984  1026328.0          0  \n",
       "88532  1010787.0          0  \n",
       "59030  1024967.0          0  \n",
       "31675  1022092.0          0  \n",
       "36720  1026741.0          0  \n",
       "\n",
       "[5 rows x 21 columns]"
      ]
     },
     "execution_count": 89,
     "metadata": {},
     "output_type": "execute_result"
    }
   ],
   "source": [
    "df_Bxnew.head()"
   ]
  },
  {
   "cell_type": "code",
   "execution_count": 91,
   "metadata": {},
   "outputs": [
    {
     "data": {
      "text/plain": [
       "Index(['Address', 'BldgArea', 'BldgDepth', 'BuiltFAR', 'CommFAR', 'FacilFAR',\n",
       "       'Lot', 'LotArea', 'LotDepth', 'NumBldgs', 'NumFloors', 'OfficeArea',\n",
       "       'ResArea', 'ResidFAR', 'RetailArea', 'YearBuilt', 'YearAlter1',\n",
       "       'ZipCode', 'YCoord', 'XCoord', 'Complaint'],\n",
       "      dtype='object')"
      ]
     },
     "execution_count": 91,
     "metadata": {},
     "output_type": "execute_result"
    }
   ],
   "source": [
    "df_Bxnew.columns"
   ]
  },
  {
   "cell_type": "code",
   "execution_count": 92,
   "metadata": {},
   "outputs": [],
   "source": [
    "df_bldg = df_Bxnew[['BldgArea','BldgDepth','NumBldgs','NumFloors','ResArea','RetailArea','YearBuilt','Complaint']]"
   ]
  },
  {
   "cell_type": "code",
   "execution_count": 93,
   "metadata": {},
   "outputs": [
    {
     "data": {
      "text/html": [
       "<div>\n",
       "<style scoped>\n",
       "    .dataframe tbody tr th:only-of-type {\n",
       "        vertical-align: middle;\n",
       "    }\n",
       "\n",
       "    .dataframe tbody tr th {\n",
       "        vertical-align: top;\n",
       "    }\n",
       "\n",
       "    .dataframe thead th {\n",
       "        text-align: right;\n",
       "    }\n",
       "</style>\n",
       "<table border=\"1\" class=\"dataframe\">\n",
       "  <thead>\n",
       "    <tr style=\"text-align: right;\">\n",
       "      <th></th>\n",
       "      <th>BldgArea</th>\n",
       "      <th>BldgDepth</th>\n",
       "      <th>NumBldgs</th>\n",
       "      <th>NumFloors</th>\n",
       "      <th>ResArea</th>\n",
       "      <th>RetailArea</th>\n",
       "      <th>YearBuilt</th>\n",
       "      <th>Complaint</th>\n",
       "    </tr>\n",
       "  </thead>\n",
       "  <tbody>\n",
       "    <tr>\n",
       "      <th>50984</th>\n",
       "      <td>1982</td>\n",
       "      <td>40.0</td>\n",
       "      <td>1</td>\n",
       "      <td>1.5</td>\n",
       "      <td>1220</td>\n",
       "      <td>0</td>\n",
       "      <td>1955</td>\n",
       "      <td>0</td>\n",
       "    </tr>\n",
       "    <tr>\n",
       "      <th>88532</th>\n",
       "      <td>1480</td>\n",
       "      <td>25.0</td>\n",
       "      <td>2</td>\n",
       "      <td>2.0</td>\n",
       "      <td>1480</td>\n",
       "      <td>0</td>\n",
       "      <td>1920</td>\n",
       "      <td>0</td>\n",
       "    </tr>\n",
       "    <tr>\n",
       "      <th>59030</th>\n",
       "      <td>1782</td>\n",
       "      <td>33.0</td>\n",
       "      <td>1</td>\n",
       "      <td>3.0</td>\n",
       "      <td>1782</td>\n",
       "      <td>0</td>\n",
       "      <td>1955</td>\n",
       "      <td>0</td>\n",
       "    </tr>\n",
       "    <tr>\n",
       "      <th>31675</th>\n",
       "      <td>2310</td>\n",
       "      <td>55.0</td>\n",
       "      <td>1</td>\n",
       "      <td>2.0</td>\n",
       "      <td>2310</td>\n",
       "      <td>0</td>\n",
       "      <td>1993</td>\n",
       "      <td>0</td>\n",
       "    </tr>\n",
       "    <tr>\n",
       "      <th>36720</th>\n",
       "      <td>140947</td>\n",
       "      <td>200.0</td>\n",
       "      <td>1</td>\n",
       "      <td>4.0</td>\n",
       "      <td>0</td>\n",
       "      <td>0</td>\n",
       "      <td>2001</td>\n",
       "      <td>0</td>\n",
       "    </tr>\n",
       "  </tbody>\n",
       "</table>\n",
       "</div>"
      ],
      "text/plain": [
       "       BldgArea  BldgDepth  NumBldgs  NumFloors  ResArea  RetailArea  \\\n",
       "50984      1982       40.0         1        1.5     1220           0   \n",
       "88532      1480       25.0         2        2.0     1480           0   \n",
       "59030      1782       33.0         1        3.0     1782           0   \n",
       "31675      2310       55.0         1        2.0     2310           0   \n",
       "36720    140947      200.0         1        4.0        0           0   \n",
       "\n",
       "       YearBuilt  Complaint  \n",
       "50984       1955          0  \n",
       "88532       1920          0  \n",
       "59030       1955          0  \n",
       "31675       1993          0  \n",
       "36720       2001          0  "
      ]
     },
     "execution_count": 93,
     "metadata": {},
     "output_type": "execute_result"
    }
   ],
   "source": [
    "df_bldg.head()"
   ]
  },
  {
   "cell_type": "code",
   "execution_count": 98,
   "metadata": {},
   "outputs": [
    {
     "data": {
      "text/plain": [
       "array([[1.98200e+03, 4.00000e+01, 1.50000e+00, 1.22000e+03, 0.00000e+00,\n",
       "        1.95500e+03],\n",
       "       [1.48000e+03, 2.50000e+01, 2.00000e+00, 1.48000e+03, 0.00000e+00,\n",
       "        1.92000e+03],\n",
       "       [1.78200e+03, 3.30000e+01, 3.00000e+00, 1.78200e+03, 0.00000e+00,\n",
       "        1.95500e+03],\n",
       "       [2.31000e+03, 5.50000e+01, 2.00000e+00, 2.31000e+03, 0.00000e+00,\n",
       "        1.99300e+03],\n",
       "       [1.40947e+05, 2.00000e+02, 4.00000e+00, 0.00000e+00, 0.00000e+00,\n",
       "        2.00100e+03]])"
      ]
     },
     "execution_count": 98,
     "metadata": {},
     "output_type": "execute_result"
    }
   ],
   "source": [
    "X = np.asarray(df_bldg[['BldgArea', 'BldgDepth', 'NumFloors', 'ResArea', 'RetailArea', 'YearBuilt']])\n",
    "X[0:5]"
   ]
  },
  {
   "cell_type": "code",
   "execution_count": 99,
   "metadata": {},
   "outputs": [
    {
     "data": {
      "text/plain": [
       "array([[0],\n",
       "       [0],\n",
       "       [0],\n",
       "       [0],\n",
       "       [0]], dtype=int64)"
      ]
     },
     "execution_count": 99,
     "metadata": {},
     "output_type": "execute_result"
    }
   ],
   "source": [
    "Y = np.asarray(df_bldg[['Complaint']])\n",
    "Y[0:5]"
   ]
  },
  {
   "cell_type": "code",
   "execution_count": 101,
   "metadata": {},
   "outputs": [
    {
     "data": {
      "text/plain": [
       "array([[-0.11113993, -0.27329059, -0.52320774, -0.13861692, -0.09196098,\n",
       "         0.29719129],\n",
       "       [-0.12029779, -0.76355552, -0.18663851, -0.13038046, -0.09196098,\n",
       "         0.22675297],\n",
       "       [-0.11478848, -0.50208089,  0.48649995, -0.1208135 , -0.09196098,\n",
       "         0.29719129],\n",
       "       [-0.10515631,  0.21697435, -0.18663851, -0.10408715, -0.09196098,\n",
       "         0.37366718],\n",
       "       [ 2.4239636 ,  4.95620205,  1.15963841, -0.17726493, -0.09196098,\n",
       "         0.38976737]])"
      ]
     },
     "execution_count": 101,
     "metadata": {},
     "output_type": "execute_result"
    }
   ],
   "source": [
    "from sklearn import preprocessing\n",
    "X = preprocessing.StandardScaler().fit(X).transform(X)\n",
    "X[0:5]"
   ]
  },
  {
   "cell_type": "code",
   "execution_count": 103,
   "metadata": {},
   "outputs": [
    {
     "name": "stdout",
     "output_type": "stream",
     "text": [
      "Train set: (14376, 6) (14376, 1)\n",
      "Test set: (3595, 6) (3595, 1)\n"
     ]
    }
   ],
   "source": [
    "from sklearn.model_selection import train_test_split\n",
    "X_train, X_test, y_train, y_test = train_test_split( X, Y, test_size=0.2, random_state=4)\n",
    "print ('Train set:', X_train.shape,  y_train.shape)\n",
    "print ('Test set:', X_test.shape,  y_test.shape)"
   ]
  },
  {
   "cell_type": "code",
   "execution_count": 104,
   "metadata": {},
   "outputs": [
    {
     "name": "stderr",
     "output_type": "stream",
     "text": [
      "C:\\Users\\ET USER\\anaconda3\\lib\\site-packages\\sklearn\\utils\\validation.py:760: DataConversionWarning: A column-vector y was passed when a 1d array was expected. Please change the shape of y to (n_samples, ), for example using ravel().\n",
      "  y = column_or_1d(y, warn=True)\n"
     ]
    },
    {
     "data": {
      "text/plain": [
       "LogisticRegression(C=0.01, class_weight=None, dual=False, fit_intercept=True,\n",
       "                   intercept_scaling=1, l1_ratio=None, max_iter=100,\n",
       "                   multi_class='auto', n_jobs=None, penalty='l2',\n",
       "                   random_state=None, solver='liblinear', tol=0.0001, verbose=0,\n",
       "                   warm_start=False)"
      ]
     },
     "execution_count": 104,
     "metadata": {},
     "output_type": "execute_result"
    }
   ],
   "source": [
    "from sklearn.linear_model import LogisticRegression\n",
    "from sklearn.metrics import confusion_matrix\n",
    "LR = LogisticRegression(C=0.01, solver='liblinear').fit(X_train,y_train)#C parameter indicates inverse of regularization strength which must be a positive float. Smaller values specify stronger regularization(to reduce overfitting problem)\n",
    "LR"
   ]
  },
  {
   "cell_type": "code",
   "execution_count": 105,
   "metadata": {},
   "outputs": [
    {
     "data": {
      "text/plain": [
       "array([0, 0, 0, ..., 0, 0, 0], dtype=int64)"
      ]
     },
     "execution_count": 105,
     "metadata": {},
     "output_type": "execute_result"
    }
   ],
   "source": [
    "yhat = LR.predict(X_test)\n",
    "yhat"
   ]
  },
  {
   "cell_type": "code",
   "execution_count": 106,
   "metadata": {},
   "outputs": [
    {
     "name": "stderr",
     "output_type": "stream",
     "text": [
      "C:\\Users\\ET USER\\anaconda3\\lib\\site-packages\\sklearn\\metrics\\_classification.py:664: FutureWarning: jaccard_similarity_score has been deprecated and replaced with jaccard_score. It will be removed in version 0.23. This implementation has surprising behavior for binary and multiclass classification tasks.\n",
      "  FutureWarning)\n"
     ]
    },
    {
     "data": {
      "text/plain": [
       "0.8998609179415855"
      ]
     },
     "execution_count": 106,
     "metadata": {},
     "output_type": "execute_result"
    }
   ],
   "source": [
    "from sklearn.metrics import jaccard_similarity_score\n",
    "jaccard_similarity_score(y_test, yhat)"
   ]
  },
  {
   "cell_type": "code",
   "execution_count": 110,
   "metadata": {},
   "outputs": [
    {
     "name": "stdout",
     "output_type": "stream",
     "text": [
      "246\n"
     ]
    }
   ],
   "source": [
    "var = '1234567'\n",
    "print(var[1::2])"
   ]
  },
  {
   "cell_type": "code",
   "execution_count": 108,
   "metadata": {},
   "outputs": [
    {
     "data": {
      "text/plain": [
       "(4, 4, 4)"
      ]
     },
     "execution_count": 108,
     "metadata": {},
     "output_type": "execute_result"
    }
   ],
   "source": [
    "Dict={\"A\":1,\"B\":\"2\",\"C\":[3,3,3],\"D\":(4,4,4),'E':5,'F':6}\n",
    "Dict[\"D\"]"
   ]
  },
  {
   "cell_type": "code",
   "execution_count": 112,
   "metadata": {},
   "outputs": [
    {
     "data": {
      "text/plain": [
       "5"
      ]
     },
     "execution_count": 112,
     "metadata": {},
     "output_type": "execute_result"
    }
   ],
   "source": [
    "Name=\"Michael Jackson\"\n",
    "Name.find('el')"
   ]
  },
  {
   "cell_type": "code",
   "execution_count": 113,
   "metadata": {},
   "outputs": [
    {
     "data": {
      "text/plain": [
       "[1, 'a', 2, 1, 'd']"
      ]
     },
     "execution_count": 113,
     "metadata": {},
     "output_type": "execute_result"
    }
   ],
   "source": [
    "A=[1,'a']\n",
    "B=[2,1,'d']\n",
    "A+B"
   ]
  },
  {
   "cell_type": "code",
   "execution_count": 115,
   "metadata": {},
   "outputs": [],
   "source": [
    "V={'A','B'}\n",
    "V.add('c')"
   ]
  },
  {
   "cell_type": "code",
   "execution_count": 116,
   "metadata": {},
   "outputs": [
    {
     "data": {
      "text/plain": [
       "{'A', 'B', 'c'}"
      ]
     },
     "execution_count": 116,
     "metadata": {},
     "output_type": "execute_result"
    }
   ],
   "source": [
    "V"
   ]
  },
  {
   "cell_type": "code",
   "execution_count": 117,
   "metadata": {},
   "outputs": [
    {
     "data": {
      "text/plain": [
       "{'A', 'B', 'c'}"
      ]
     },
     "execution_count": 117,
     "metadata": {},
     "output_type": "execute_result"
    }
   ],
   "source": [
    "V.add('c')\n",
    "V"
   ]
  },
  {
   "cell_type": "code",
   "execution_count": null,
   "metadata": {},
   "outputs": [],
   "source": []
  }
 ],
 "metadata": {
  "kernelspec": {
   "display_name": "Python 3",
   "language": "python",
   "name": "python3"
  },
  "language_info": {
   "codemirror_mode": {
    "name": "ipython",
    "version": 3
   },
   "file_extension": ".py",
   "mimetype": "text/x-python",
   "name": "python",
   "nbconvert_exporter": "python",
   "pygments_lexer": "ipython3",
   "version": "3.7.6"
  }
 },
 "nbformat": 4,
 "nbformat_minor": 4
}
